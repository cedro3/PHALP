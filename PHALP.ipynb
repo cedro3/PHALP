{
  "cells": [
    {
      "cell_type": "markdown",
      "metadata": {
        "id": "view-in-github",
        "colab_type": "text"
      },
      "source": [
        "<a href=\"https://colab.research.google.com/github/cedro3/PHALP/blob/master/PHALP.ipynb\" target=\"_parent\"><img src=\"https://colab.research.google.com/assets/colab-badge.svg\" alt=\"Open In Colab\"/></a>"
      ]
    },
    {
      "cell_type": "code",
      "execution_count": null,
      "metadata": {
        "id": "Qt6F7GoVbCtS"
      },
      "outputs": [],
      "source": [
        "#@title #**セットアップ**\n",
        "\n",
        "# githubからコードを取得\n",
        "PHALP_ROOT=\"PHALP\"\n",
        "! git clone https://github.com/cedro3/PHALP.git $PHALP_ROOT\n",
        "%cd PHALP\n",
        "\n",
        "# ライブラリーのインストール \n",
        "! pip install pyrender\n",
        "! pip install opencv-python\n",
        "! pip install joblib\n",
        "! pip install cython\n",
        "! pip install scikit-learn==0.22\n",
        "! pip install scikit-image\n",
        "! pip install git+https://github.com/facebookresearch/detectron2.git\n",
        "! pip install git+https://github.com/brjathu/pytube.git\n",
        "! pip install git+https://github.com/brjathu/NMR.git\n",
        "! pip install chumpy\n",
        "! pip install ipython\n",
        "! pip install gdown\n",
        "! pip install dill\n",
        "! pip install scenedetect\n",
        "\n",
        "# 関数のインポート\n",
        "from function import *\n",
        "\n",
        "# フォルダの作成\n",
        "reset_folder('_DEMO/youtube_data')\n"
      ]
    },
    {
      "cell_type": "code",
      "execution_count": null,
      "metadata": {
        "colab": {
          "background_save": true
        },
        "id": "x5guCsZiJEMA"
      },
      "outputs": [],
      "source": [
        "#@title #**トラッキング動画の作成**\n",
        "\n",
        "import shutil\n",
        "#@markdown ・音声付き動画を使用して下さい\\\n",
        "#@markdown ・HDで30秒以内が目安\n",
        "movie = 'habit.mp4' #@param {type:\"string\"}\n",
        "shutil.copy('movie/'+movie, '_DEMO/youtube_data/youtube.mp4')\n",
        "\n",
        "# トラッキング動画の作成\n",
        "!./scripts/_PHALP.sh\n",
        "\n",
        "# 音声の抽出・付加\n",
        "clear_output()\n",
        "print('preparation for sound...')\n",
        "video_file = '_DEMO/youtube_data/youtube.mp4'\n",
        "out_file = 'out/Videos_v1/PHALP_youtube_data_mask.mp4'\n",
        "! ffmpeg -y -i $video_file -loglevel error sound.mp3\n",
        "! ffmpeg -y -i $out_file -i sound.mp3 -loglevel error output.mp4\n",
        "\n",
        "# 動画の再生\n",
        "clear_output()\n",
        "display_mp4('output.mp4')"
      ]
    }
  ],
  "metadata": {
    "accelerator": "GPU",
    "colab": {
      "collapsed_sections": [
        "XoBvsEG9Xuub",
        "DksvSemhYIOq",
        "9k0lYBb3AMy6"
      ],
      "name": "PHALP",
      "provenance": [],
      "include_colab_link": true
    },
    "kernelspec": {
      "display_name": "Python 3",
      "name": "python3"
    },
    "language_info": {
      "name": "python"
    }
  },
  "nbformat": 4,
  "nbformat_minor": 0
}